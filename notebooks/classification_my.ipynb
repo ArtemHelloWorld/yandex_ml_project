{
 "cells": [
  {
   "cell_type": "code",
   "execution_count": 1,
   "id": "d2e39736d0aa5dbb",
   "metadata": {
    "collapsed": true,
    "ExecuteTime": {
     "end_time": "2023-12-12T14:04:15.924097100Z",
     "start_time": "2023-12-12T14:04:01.975377300Z"
    }
   },
   "outputs": [],
   "source": [
    "import os\n",
    "\n",
    "import pandas as pd\n",
    "import torch\n",
    "from PIL import Image\n",
    "from ignite.engine import Events\n",
    "from ignite.engine import create_supervised_evaluator\n",
    "from ignite.engine import create_supervised_trainer\n",
    "from ignite.metrics import Accuracy\n",
    "from ignite.metrics import Loss\n",
    "from torch import nn\n",
    "from torch.utils.data import DataLoader\n",
    "from torchsummary import summary\n",
    "from torchvision.transforms.v2 import Compose, PILToTensor, ToDtype\n",
    "\n",
    "from datasets.LungDataset import LungDataset"
   ]
  },
  {
   "cell_type": "code",
   "execution_count": 2,
   "outputs": [],
   "source": [
    "DEVICE = torch.device('cuda' if torch.cuda.is_available() else 'cpu')\n",
    "NUM_EPOCHS = 5\n",
    "BUTCH_SIZE = 20\n",
    "IMAGE_DIR = '../data/train_images/'\n",
    "MASK_DIR = '../data/train_lung_masks/'\n",
    "TEST_IMAGE_DIR = '../data/test_images/'\n",
    "TEST_MASK_DIR = '../data/test_lung_masks/'\n",
    "LEARNING_RATE = 1e-3\n",
    "USE_CHECKPOINT = False\n",
    "GENERATE_ANSWER = False\n",
    "TRAIN_MODEL = not GENERATE_ANSWER"
   ],
   "metadata": {
    "collapsed": false,
    "ExecuteTime": {
     "start_time": "2023-12-12T14:04:15.924097100Z"
    }
   },
   "id": "initial_id"
  },
  {
   "cell_type": "code",
   "execution_count": null,
   "outputs": [],
   "source": [
    "transform = Compose([\n",
    "    PILToTensor(),\n",
    "    ToDtype(torch.float32, scale=True),\n",
    "])"
   ],
   "metadata": {
    "collapsed": false
   },
   "id": "e12ea0234207f7f"
  },
  {
   "cell_type": "code",
   "execution_count": null,
   "outputs": [],
   "source": [
    "train_dataset = LungDataset(image_dir=IMAGE_DIR, mask_dir=MASK_DIR, transform=transform)\n",
    "train_loader = DataLoader(train_dataset, batch_size=BUTCH_SIZE)"
   ],
   "metadata": {
    "collapsed": false
   },
   "id": "b81f4031c6c116c4"
  },
  {
   "cell_type": "code",
   "execution_count": null,
   "outputs": [],
   "source": [
    "class NN(nn.Module):\n",
    "    def __init__(self):\n",
    "        super(NN, self).__init__()\n",
    "\n",
    "        self.layer1 = torch.nn.Sequential(\n",
    "            torch.nn.Conv2d(1, 32, 5),\n",
    "            torch.nn.ReLU(),\n",
    "            torch.nn.MaxPool2d(5, 5)\n",
    "        )\n",
    "        self.layer2 = torch.nn.Sequential(\n",
    "            torch.nn.Conv2d(32, 128, 5),\n",
    "            torch.nn.ReLU(),\n",
    "            torch.nn.MaxPool2d(5, 5)\n",
    "        )\n",
    "        self.layer3 = torch.nn.Sequential(\n",
    "            torch.nn.Conv2d(128, 512, 5),\n",
    "            torch.nn.ReLU(),\n",
    "            torch.nn.MaxPool2d(3, 3)\n",
    "        )\n",
    "\n",
    "        self.flatten = nn.Flatten(-3)\n",
    "        self.linear1 = nn.Linear(512, 100, dtype=torch.bfloat16)\n",
    "        self.batchnorm1 = nn.BatchNorm1d(100)\n",
    "        self.linear2 = nn.Linear(100, 20, dtype=torch.bfloat16)\n",
    "        self.batchnorm2 = nn.BatchNorm1d(20)\n",
    "        self.linear3 = nn.Linear(20, 3, dtype=torch.bfloat16)\n",
    "        self.batchnorm3 = nn.BatchNorm1d(3)\n",
    "\n",
    "        self.dropout = nn.Dropout(0.4)\n",
    "        self.relu = nn.ReLU()\n",
    "        self.softmax = nn.Softmax(dim=-1)"
   ],
   "metadata": {
    "collapsed": false
   },
   "id": "727aa1457f2fa291"
  },
  {
   "cell_type": "code",
   "execution_count": null,
   "outputs": [],
   "source": [
    "model = NN().to(DEVICE)\n",
    "summary(model, train_dataset[0][0].shape)"
   ],
   "metadata": {
    "collapsed": false
   },
   "id": "16348230fcbfdc6a"
  },
  {
   "cell_type": "code",
   "execution_count": null,
   "outputs": [],
   "source": [
    "loss_function = nn.CrossEntropyLoss().to(DEVICE)\n",
    "optimizer = torch.optim.AdamW(model.parameters(), lr=LEARNING_RATE)\n",
    "trainer = create_supervised_trainer(model, optimizer, loss_function)"
   ],
   "metadata": {
    "collapsed": false
   },
   "id": "6af9712d201ff9ec"
  },
  {
   "cell_type": "code",
   "execution_count": null,
   "outputs": [],
   "source": [
    "def save_checkpoint(state, filename='checkpoint.pth.tar'):\n",
    "    torch.save(state,filename)\n",
    "\n",
    "def load_checkpoint(checkpoint, model):\n",
    "    model.load_state_dict(checkpoint['state_dict'])\n",
    "    \n",
    "if USE_CHECKPOINT:\n",
    "    load_checkpoint(torch.load('checkpoint-5.pth.tar', map_location=DEVICE), model)"
   ],
   "metadata": {
    "collapsed": false
   },
   "id": "bfe01ab89f749a37"
  },
  {
   "cell_type": "code",
   "execution_count": 1,
   "outputs": [
    {
     "ename": "SyntaxError",
     "evalue": "incomplete input (2959433018.py, line 27)",
     "output_type": "error",
     "traceback": [
      "\u001B[1;36m  Cell \u001B[1;32mIn[1], line 27\u001B[1;36m\u001B[0m\n\u001B[1;33m    def generate_test_result():\u001B[0m\n\u001B[1;37m                               ^\u001B[0m\n\u001B[1;31mSyntaxError\u001B[0m\u001B[1;31m:\u001B[0m incomplete input\n"
     ]
    }
   ],
   "source": [
    "metrics_dict = {\n",
    "    'accuracy': Accuracy(),\n",
    "    'loss': Loss(loss_function)\n",
    "}\n",
    "\n",
    "train_evaluator = create_supervised_evaluator(model, metrics_dict)\n",
    "\n",
    "def compute_epoch_results():\n",
    "    train_evaluator.run(train_loader)\n",
    "    \n",
    "def log_iter_loss(engine):\n",
    "    print(f'Epoch[{engine.state.epoch}] - Iter[{engine.state.iteration}]: loss = {engine.state.output}')\n",
    "    \n",
    "def create_checkpoint():\n",
    "    checkpoint = {\n",
    "        'state_dict': model.state_dict(),\n",
    "        'optimizer': optimizer.state_dict()\n",
    "    }\n",
    "    save_checkpoint(checkpoint)\n",
    "\n",
    "def generate_test_answer():\n",
    "    model.eval()\n",
    "\n",
    "    answer = pd.DataFrame(columns=['id', 'target_feature'])\n",
    "    test_images = os.listdir(TEST_IMAGE_DIR)\n",
    "    \n",
    "    for image_name in test_images:\n",
    "        img_path = os.path.join(TEST_IMAGE_DIR, image_name)\n",
    "        image = Image.open(img_path).convert('L')\n",
    "        image = transform(image)\n",
    "        image = image.to(device=DEVICE)\n",
    "        \n",
    "        with torch.no_grad():\n",
    "            prediction = model(image.unsqueeze(1))\n",
    "            answer.loc[answer.shape[0]] = [answer.shape[0], int(torch.argmax(prediction))]\n",
    "    answer.to_csv(\"answer.csv\", index=False)\n",
    "    \n",
    "    model.train()"
   ],
   "metadata": {
    "collapsed": false,
    "ExecuteTime": {
     "end_time": "2023-12-12T16:13:02.964653300Z",
     "start_time": "2023-12-12T16:13:02.934672700Z"
    }
   },
   "id": "f77e3ffb99fa3328"
  },
  {
   "cell_type": "code",
   "execution_count": null,
   "outputs": [],
   "source": [
    "trainer.add_event_handler(Events.ITERATION_COMPLETED(every=1000), log_iter_loss)\n",
    "trainer.add_event_handler(Events.EPOCH_COMPLETED, compute_epoch_results)\n",
    "trainer.add_event_handler(Events.EPOCH_COMPLETED, create_checkpoint)\n",
    "trainer.add_event_handler(Events.COMPLETED, generate_test_answer)"
   ],
   "metadata": {
    "collapsed": false
   },
   "id": "fb515b42d568666c"
  },
  {
   "cell_type": "code",
   "execution_count": null,
   "outputs": [],
   "source": [
    "if GENERATE_ANSWER:\n",
    "    generate_test_answer()"
   ],
   "metadata": {
    "collapsed": false
   },
   "id": "31f2eb0d47638936"
  },
  {
   "cell_type": "code",
   "execution_count": null,
   "outputs": [],
   "source": [
    "if TRAIN_MODEL:\n",
    "    trainer.run(train_loader, NUM_EPOCHS)"
   ],
   "metadata": {
    "collapsed": false
   },
   "id": "9d7116b17e3ba877"
  }
 ],
 "metadata": {
  "kernelspec": {
   "display_name": "Python 3",
   "language": "python",
   "name": "python3"
  },
  "language_info": {
   "codemirror_mode": {
    "name": "ipython",
    "version": 2
   },
   "file_extension": ".py",
   "mimetype": "text/x-python",
   "name": "python",
   "nbconvert_exporter": "python",
   "pygments_lexer": "ipython2",
   "version": "2.7.6"
  }
 },
 "nbformat": 4,
 "nbformat_minor": 5
}
